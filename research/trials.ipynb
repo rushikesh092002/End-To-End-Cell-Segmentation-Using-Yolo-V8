{
  "cells": [
    {
      "cell_type": "code",
      "execution_count": 1,
      "metadata": {
        "id": "a-cSLIl_tZjQ"
      },
      "outputs": [],
      "source": [
        "import gdown"
      ]
    },
    {
      "cell_type": "code",
      "execution_count": 2,
      "metadata": {
        "id": "iO6WuLRPtcQY"
      },
      "outputs": [],
      "source": [
        "import os"
      ]
    },
    {
      "cell_type": "code",
      "execution_count": 3,
      "metadata": {
        "id": "eHz74J9Ctlcl"
      },
      "outputs": [],
      "source": [
        "url=\"https://drive.google.com/file/d/1QwEs3x0ppyUBxlUtuQUJbLnuu0cMv04W/view?usp=sharing\""
      ]
    },
    {
      "cell_type": "code",
      "execution_count": 9,
      "metadata": {
        "id": "hU0c4tkGtpO0"
      },
      "outputs": [],
      "source": [
        "file_id=url.split('/')[5]"
      ]
    },
    {
      "cell_type": "code",
      "execution_count": 10,
      "metadata": {
        "colab": {
          "base_uri": "https://localhost:8080/",
          "height": 36
        },
        "id": "FogK6emrtt2Z",
        "outputId": "f809b806-0ea2-48d6-8b0a-1a1c130c8e46"
      },
      "outputs": [
        {
          "data": {
            "application/vnd.google.colaboratory.intrinsic+json": {
              "type": "string"
            },
            "text/plain": [
              "'1QwEs3x0ppyUBxlUtuQUJbLnuu0cMv04W'"
            ]
          },
          "execution_count": 10,
          "metadata": {},
          "output_type": "execute_result"
        }
      ],
      "source": [
        "file_id"
      ]
    },
    {
      "cell_type": "code",
      "execution_count": 11,
      "metadata": {
        "colab": {
          "base_uri": "https://localhost:8080/",
          "height": 105
        },
        "id": "xVnLvItCtvXN",
        "outputId": "9aca350b-8d35-42a5-873e-764b89ef0531"
      },
      "outputs": [
        {
          "name": "stderr",
          "output_type": "stream",
          "text": [
            "Downloading...\n",
            "From: https://drive.google.com/uc?/export=download&id=1QwEs3x0ppyUBxlUtuQUJbLnuu0cMv04W\n",
            "To: /content/cell_data.zip\n",
            "100%|██████████| 175k/175k [00:00<00:00, 5.81MB/s]\n"
          ]
        },
        {
          "data": {
            "application/vnd.google.colaboratory.intrinsic+json": {
              "type": "string"
            },
            "text/plain": [
              "'cell_data.zip'"
            ]
          },
          "execution_count": 11,
          "metadata": {},
          "output_type": "execute_result"
        }
      ],
      "source": [
        "prefix='https://drive.google.com/uc?/export=download&id='\n",
        "gdown.download(prefix+file_id)"
      ]
    },
    {
      "cell_type": "code",
      "execution_count": null,
      "metadata": {
        "id": "Y6ItpgtiuGkQ"
      },
      "outputs": [],
      "source": []
    }
  ],
  "metadata": {
    "colab": {
      "provenance": []
    },
    "kernelspec": {
      "display_name": "cellseg2",
      "language": "python",
      "name": "python3"
    },
    "language_info": {
      "name": "python",
      "version": "3.8.20"
    }
  },
  "nbformat": 4,
  "nbformat_minor": 0
}
